{
 "cells": [
  {
   "cell_type": "code",
   "execution_count": 2,
   "metadata": {},
   "outputs": [],
   "source": [
    "import scanpy as sc\n",
    "import pandas as pd\n",
    "import os\n",
    "import numpy as np"
   ]
  },
  {
   "cell_type": "code",
   "execution_count": 3,
   "metadata": {},
   "outputs": [],
   "source": [
    "from matplotlib import colors\n",
    "import matplotlib.pyplot as plt\n",
    "import seaborn as sns"
   ]
  },
  {
   "cell_type": "code",
   "execution_count": 4,
   "metadata": {},
   "outputs": [],
   "source": [
    "import warnings\n",
    "warnings.filterwarnings('ignore')"
   ]
  },
  {
   "cell_type": "code",
   "execution_count": 8,
   "metadata": {},
   "outputs": [],
   "source": [
    "## path to repository\n",
    "os.chdir('/hpcnfs/scratch/DIMA/piva/mpi_freiburg/scmultiome/')"
   ]
  },
  {
   "cell_type": "code",
   "execution_count": 9,
   "metadata": {},
   "outputs": [
    {
     "data": {
      "text/plain": [
       "AnnData object with n_obs × n_vars = 22358 × 43277\n",
       "    obs: 'orig.ident', 'nCount_RNA', 'nFeature_RNA', 'percent.mt', 'RNA_snn_res.0.5', 'seurat_clusters', 'pANN_0.25_0.09_556', 'doublets', 'dataset', 'pANN_0.25_0.09_978', 'pANN_0.25_0.09_143', 'pANN_0.25_0.09_477', 'pANN_0.25_0.09_359', 'pANN_0.25_0.09_20', 'pANN_0.25_0.09_136', 'pANN_0.25_0.09_70', 'pANN_0.25_0.09_1488', 'pANN_0.25_0.09_1159', 'pANN_0.25_0.09_399', 'pANN_0.25_0.09_832', 'sample', 'stage', 'replicate', 'nCount_ATAC', 'nFeature_ATAC', 'integrated_snn_res.0.8', 'annotation_leiden12', 'nCount_peaks', 'nFeature_peaks', 'ident'\n",
       "    uns: 'X_name'\n",
       "    obsm: 'LSI', 'UMAP'\n",
       "    layers: 'logcounts'"
      ]
     },
     "execution_count": 9,
     "metadata": {},
     "output_type": "execute_result"
    }
   ],
   "source": [
    "\n",
    "## already Normalized ATAC assay\n",
    "# in this assay peak have been called in WT only cells, linking was done in wt only cells. Mutants data have been requantified afterwards\n",
    "# e.i. 1st linked peak is first linked peak in WT cells\n",
    "\n",
    "adata_path='./data/wt_only_linked_with_mutants_norm.h5ad'\n",
    "adata=sc.read_h5ad(adata_path)\n",
    "adata"
   ]
  },
  {
   "cell_type": "code",
   "execution_count": 10,
   "metadata": {},
   "outputs": [
    {
     "data": {
      "text/plain": [
       "(874.512674454011, 22938.601797532203)"
      ]
     },
     "execution_count": 10,
     "metadata": {},
     "output_type": "execute_result"
    }
   ],
   "source": [
    "\n",
    "adata.X.sum(1).min(), adata.X.sum(1).max() "
   ]
  },
  {
   "cell_type": "code",
   "execution_count": 11,
   "metadata": {},
   "outputs": [
    {
     "data": {
      "text/plain": [
       "(0.0, 13.10498446591918)"
      ]
     },
     "execution_count": 11,
     "metadata": {},
     "output_type": "execute_result"
    }
   ],
   "source": [
    "np.min(adata.X), np.max(adata.X)"
   ]
  },
  {
   "cell_type": "markdown",
   "metadata": {},
   "source": [
    "## Marker genes"
   ]
  },
  {
   "cell_type": "code",
   "execution_count": 8,
   "metadata": {},
   "outputs": [],
   "source": [
    "germlayer_markergenes=pd.read_csv('germlayer_markergenes.csv').drop(['Unnamed: 0','index'],axis=1)\n",
    "germlayer_markergenes=dict(zip(germlayer_markergenes['gene'], germlayer_markergenes['germlayer']))"
   ]
  },
  {
   "cell_type": "code",
   "execution_count": 9,
   "metadata": {},
   "outputs": [],
   "source": [
    "germlayer_markergenes2=pd.read_csv('germlayer_markergenes.csv').drop(['Unnamed: 0','index'],axis=1)\n",
    "#germlayer_markergenes2.groupby('germlayer').apply(list)"
   ]
  },
  {
   "cell_type": "code",
   "execution_count": 10,
   "metadata": {},
   "outputs": [],
   "source": [
    "markergenes=germlayer_markergenes2.groupby('germlayer')['gene'].apply(list).to_dict()"
   ]
  },
  {
   "cell_type": "code",
   "execution_count": 11,
   "metadata": {},
   "outputs": [],
   "source": [
    "adata.var['chr']=[e.split('-')[0] for e in adata.var.index.tolist()]\n",
    "adata.var['start']=[e.split('-')[-2] for e in adata.var.index.tolist()]\n",
    "adata.var['end']=[e.split('-')[-1] for e in adata.var.index.tolist()]"
   ]
  },
  {
   "cell_type": "code",
   "execution_count": 12,
   "metadata": {},
   "outputs": [
    {
     "data": {
      "text/html": [
       "<div>\n",
       "<style scoped>\n",
       "    .dataframe tbody tr th:only-of-type {\n",
       "        vertical-align: middle;\n",
       "    }\n",
       "\n",
       "    .dataframe tbody tr th {\n",
       "        vertical-align: top;\n",
       "    }\n",
       "\n",
       "    .dataframe thead th {\n",
       "        text-align: right;\n",
       "    }\n",
       "</style>\n",
       "<table border=\"1\" class=\"dataframe\">\n",
       "  <thead>\n",
       "    <tr style=\"text-align: right;\">\n",
       "      <th></th>\n",
       "      <th>chr</th>\n",
       "      <th>start</th>\n",
       "      <th>end</th>\n",
       "    </tr>\n",
       "  </thead>\n",
       "  <tbody>\n",
       "    <tr>\n",
       "      <th>chr2L-563-1274</th>\n",
       "      <td>chr2L</td>\n",
       "      <td>563</td>\n",
       "      <td>1274</td>\n",
       "    </tr>\n",
       "    <tr>\n",
       "      <th>chr2L-1648-2058</th>\n",
       "      <td>chr2L</td>\n",
       "      <td>1648</td>\n",
       "      <td>2058</td>\n",
       "    </tr>\n",
       "    <tr>\n",
       "      <th>chr2L-5334-6147</th>\n",
       "      <td>chr2L</td>\n",
       "      <td>5334</td>\n",
       "      <td>6147</td>\n",
       "    </tr>\n",
       "    <tr>\n",
       "      <th>chr2L-7459-9247</th>\n",
       "      <td>chr2L</td>\n",
       "      <td>7459</td>\n",
       "      <td>9247</td>\n",
       "    </tr>\n",
       "    <tr>\n",
       "      <th>chr2L-12064-12996</th>\n",
       "      <td>chr2L</td>\n",
       "      <td>12064</td>\n",
       "      <td>12996</td>\n",
       "    </tr>\n",
       "    <tr>\n",
       "      <th>...</th>\n",
       "      <td>...</td>\n",
       "      <td>...</td>\n",
       "      <td>...</td>\n",
       "    </tr>\n",
       "    <tr>\n",
       "      <th>chrY-3653011-3653695</th>\n",
       "      <td>chrY</td>\n",
       "      <td>3653011</td>\n",
       "      <td>3653695</td>\n",
       "    </tr>\n",
       "    <tr>\n",
       "      <th>chrY-3654745-3655231</th>\n",
       "      <td>chrY</td>\n",
       "      <td>3654745</td>\n",
       "      <td>3655231</td>\n",
       "    </tr>\n",
       "    <tr>\n",
       "      <th>chrY-3655664-3656275</th>\n",
       "      <td>chrY</td>\n",
       "      <td>3655664</td>\n",
       "      <td>3656275</td>\n",
       "    </tr>\n",
       "    <tr>\n",
       "      <th>chrY-3665573-3666557</th>\n",
       "      <td>chrY</td>\n",
       "      <td>3665573</td>\n",
       "      <td>3666557</td>\n",
       "    </tr>\n",
       "    <tr>\n",
       "      <th>chrY-3667000-3667237</th>\n",
       "      <td>chrY</td>\n",
       "      <td>3667000</td>\n",
       "      <td>3667237</td>\n",
       "    </tr>\n",
       "  </tbody>\n",
       "</table>\n",
       "<p>43277 rows × 3 columns</p>\n",
       "</div>"
      ],
      "text/plain": [
       "                        chr    start      end\n",
       "chr2L-563-1274        chr2L      563     1274\n",
       "chr2L-1648-2058       chr2L     1648     2058\n",
       "chr2L-5334-6147       chr2L     5334     6147\n",
       "chr2L-7459-9247       chr2L     7459     9247\n",
       "chr2L-12064-12996     chr2L    12064    12996\n",
       "...                     ...      ...      ...\n",
       "chrY-3653011-3653695   chrY  3653011  3653695\n",
       "chrY-3654745-3655231   chrY  3654745  3655231\n",
       "chrY-3655664-3656275   chrY  3655664  3656275\n",
       "chrY-3665573-3666557   chrY  3665573  3666557\n",
       "chrY-3667000-3667237   chrY  3667000  3667237\n",
       "\n",
       "[43277 rows x 3 columns]"
      ]
     },
     "execution_count": 12,
     "metadata": {},
     "output_type": "execute_result"
    }
   ],
   "source": [
    "adata.var"
   ]
  },
  {
   "cell_type": "code",
   "execution_count": null,
   "metadata": {},
   "outputs": [],
   "source": []
  },
  {
   "cell_type": "markdown",
   "metadata": {},
   "source": [
    "## peaks associated to marker genes"
   ]
  },
  {
   "cell_type": "code",
   "execution_count": 13,
   "metadata": {},
   "outputs": [
    {
     "data": {
      "text/html": [
       "<div>\n",
       "<style scoped>\n",
       "    .dataframe tbody tr th:only-of-type {\n",
       "        vertical-align: middle;\n",
       "    }\n",
       "\n",
       "    .dataframe tbody tr th {\n",
       "        vertical-align: top;\n",
       "    }\n",
       "\n",
       "    .dataframe thead th {\n",
       "        text-align: right;\n",
       "    }\n",
       "</style>\n",
       "<table border=\"1\" class=\"dataframe\">\n",
       "  <thead>\n",
       "    <tr style=\"text-align: right;\">\n",
       "      <th></th>\n",
       "      <th>gene</th>\n",
       "      <th>flybaseid</th>\n",
       "      <th>germlayer</th>\n",
       "      <th>WT_1st_TSS_peak</th>\n",
       "      <th>WT_1st_linked_enhancer_peak</th>\n",
       "    </tr>\n",
       "  </thead>\n",
       "  <tbody>\n",
       "    <tr>\n",
       "      <th>0</th>\n",
       "      <td>GEFmeso</td>\n",
       "      <td>FBgn0050115</td>\n",
       "      <td>mesoderm</td>\n",
       "      <td>chr2R-18582263-18583747</td>\n",
       "      <td>chr2R-18568255-18569046</td>\n",
       "    </tr>\n",
       "    <tr>\n",
       "      <th>1</th>\n",
       "      <td>Mes2</td>\n",
       "      <td>FBgn0037207</td>\n",
       "      <td>mesoderm</td>\n",
       "      <td>chr3L-22944870-22945955</td>\n",
       "      <td>chr3L-22943258-22943944</td>\n",
       "    </tr>\n",
       "    <tr>\n",
       "      <th>2</th>\n",
       "      <td>NetA</td>\n",
       "      <td>FBgn0015773</td>\n",
       "      <td>mesoderm</td>\n",
       "      <td>chrX-14653509-14654386</td>\n",
       "      <td>chrX-14649351-14650189</td>\n",
       "    </tr>\n",
       "    <tr>\n",
       "      <th>3</th>\n",
       "      <td>ltl</td>\n",
       "      <td>FBgn0268063</td>\n",
       "      <td>mesoderm</td>\n",
       "      <td>chr3L-7518486-7520011</td>\n",
       "      <td>NaN</td>\n",
       "    </tr>\n",
       "    <tr>\n",
       "      <th>4</th>\n",
       "      <td>sna</td>\n",
       "      <td>FBgn0003448</td>\n",
       "      <td>mesoderm</td>\n",
       "      <td>chr2L-15476900-15478776</td>\n",
       "      <td>chr2L-15479413-15480254</td>\n",
       "    </tr>\n",
       "  </tbody>\n",
       "</table>\n",
       "</div>"
      ],
      "text/plain": [
       "      gene    flybaseid germlayer          WT_1st_TSS_peak  \\\n",
       "0  GEFmeso  FBgn0050115  mesoderm  chr2R-18582263-18583747   \n",
       "1     Mes2  FBgn0037207  mesoderm  chr3L-22944870-22945955   \n",
       "2     NetA  FBgn0015773  mesoderm   chrX-14653509-14654386   \n",
       "3      ltl  FBgn0268063  mesoderm    chr3L-7518486-7520011   \n",
       "4      sna  FBgn0003448  mesoderm  chr2L-15476900-15478776   \n",
       "\n",
       "  WT_1st_linked_enhancer_peak  \n",
       "0     chr2R-18568255-18569046  \n",
       "1     chr3L-22943258-22943944  \n",
       "2      chrX-14649351-14650189  \n",
       "3                         NaN  \n",
       "4     chr2L-15479413-15480254  "
      ]
     },
     "execution_count": 13,
     "metadata": {},
     "output_type": "execute_result"
    }
   ],
   "source": [
    "peaks=pd.read_excel('./data/peaks_1tss_1enhancer/table_1st_TSS_1st_enhancer_peaks_per_sample.xlsx',\n",
    "                   )\n",
    "peaks.head()"
   ]
  },
  {
   "cell_type": "code",
   "execution_count": 14,
   "metadata": {},
   "outputs": [],
   "source": [
    "\n",
    "## \n",
    "\n",
    "peaks.at[ peaks[peaks['gene']=='Ptx1'].index[0], 'WT_1st_linked_enhancer_peak']=np.nan\n",
    "peaks.at[ peaks[peaks['gene']=='Doc1'].index[0], 'WT_1st_linked_enhancer_peak']='chr3L-9028885-9030154'"
   ]
  },
  {
   "cell_type": "code",
   "execution_count": 15,
   "metadata": {},
   "outputs": [],
   "source": [
    "#peaks.to_csv('/hpcnfs/scratch/DIMA/piva/mpi_freiburg/figures/aprile24/tables/peaks_1tss_1enhancer/table_1st_TSS_1st_enhancer_peaks_onlyWT.csv')"
   ]
  },
  {
   "cell_type": "code",
   "execution_count": 16,
   "metadata": {},
   "outputs": [],
   "source": [
    "## TSS\n",
    "tss_peaks=peaks['WT_1st_TSS_peak'].dropna().tolist()\n",
    "ehn_peaks=peaks['WT_1st_linked_enhancer_peak'].dropna().tolist()"
   ]
  },
  {
   "cell_type": "code",
   "execution_count": 17,
   "metadata": {},
   "outputs": [
    {
     "data": {
      "text/plain": [
       "(51, 51)"
      ]
     },
     "execution_count": 17,
     "metadata": {},
     "output_type": "execute_result"
    }
   ],
   "source": [
    "len(set(tss_peaks)), len(tss_peaks)"
   ]
  },
  {
   "cell_type": "code",
   "execution_count": 18,
   "metadata": {},
   "outputs": [
    {
     "data": {
      "text/plain": [
       "(43, 44)"
      ]
     },
     "execution_count": 18,
     "metadata": {},
     "output_type": "execute_result"
    }
   ],
   "source": [
    "len(set(ehn_peaks)), len(ehn_peaks)"
   ]
  },
  {
   "cell_type": "code",
   "execution_count": 19,
   "metadata": {},
   "outputs": [
    {
     "data": {
      "text/html": [
       "<div>\n",
       "<style scoped>\n",
       "    .dataframe tbody tr th:only-of-type {\n",
       "        vertical-align: middle;\n",
       "    }\n",
       "\n",
       "    .dataframe tbody tr th {\n",
       "        vertical-align: top;\n",
       "    }\n",
       "\n",
       "    .dataframe thead th {\n",
       "        text-align: right;\n",
       "    }\n",
       "</style>\n",
       "<table border=\"1\" class=\"dataframe\">\n",
       "  <thead>\n",
       "    <tr style=\"text-align: right;\">\n",
       "      <th></th>\n",
       "      <th>gene</th>\n",
       "      <th>flybaseid</th>\n",
       "      <th>germlayer</th>\n",
       "      <th>WT_1st_TSS_peak</th>\n",
       "      <th>WT_1st_linked_enhancer_peak</th>\n",
       "    </tr>\n",
       "  </thead>\n",
       "  <tbody>\n",
       "    <tr>\n",
       "      <th>3</th>\n",
       "      <td>ltl</td>\n",
       "      <td>FBgn0268063</td>\n",
       "      <td>mesoderm</td>\n",
       "      <td>chr3L-7518486-7520011</td>\n",
       "      <td>NaN</td>\n",
       "    </tr>\n",
       "    <tr>\n",
       "      <th>18</th>\n",
       "      <td>Doc2</td>\n",
       "      <td>FBgn0035956</td>\n",
       "      <td>dorsal_ectoderm</td>\n",
       "      <td>chr3L-9018989-9019778</td>\n",
       "      <td>chr3L-9002489-9003876</td>\n",
       "    </tr>\n",
       "    <tr>\n",
       "      <th>19</th>\n",
       "      <td>Doc3</td>\n",
       "      <td>FBgn0035954</td>\n",
       "      <td>dorsal_ectoderm</td>\n",
       "      <td>chr3L-9004765-9005578</td>\n",
       "      <td>chr3L-9002489-9003876</td>\n",
       "    </tr>\n",
       "    <tr>\n",
       "      <th>21</th>\n",
       "      <td>peb</td>\n",
       "      <td>FBgn0003053</td>\n",
       "      <td>dorsal_ectoderm</td>\n",
       "      <td>chrX-4616160-4617783</td>\n",
       "      <td>NaN</td>\n",
       "    </tr>\n",
       "    <tr>\n",
       "      <th>25</th>\n",
       "      <td>l(1)sc</td>\n",
       "      <td>FBgn0002561</td>\n",
       "      <td>neuroectoderm</td>\n",
       "      <td>chrX-409138-410322</td>\n",
       "      <td>NaN</td>\n",
       "    </tr>\n",
       "    <tr>\n",
       "      <th>32</th>\n",
       "      <td>geko</td>\n",
       "      <td>FBgn0020300</td>\n",
       "      <td>ventral_ectoderm</td>\n",
       "      <td>chr3L-18138075-18139990</td>\n",
       "      <td>NaN</td>\n",
       "    </tr>\n",
       "    <tr>\n",
       "      <th>41</th>\n",
       "      <td>CG2930</td>\n",
       "      <td>FBgn0028491</td>\n",
       "      <td>posterior_endoderm</td>\n",
       "      <td>chrX-3868762-3869710</td>\n",
       "      <td>NaN</td>\n",
       "    </tr>\n",
       "    <tr>\n",
       "      <th>42</th>\n",
       "      <td>Ptx1</td>\n",
       "      <td>FBgn0020912</td>\n",
       "      <td>posterior_endoderm</td>\n",
       "      <td>chr3R-30911997-30913085</td>\n",
       "      <td>NaN</td>\n",
       "    </tr>\n",
       "    <tr>\n",
       "      <th>49</th>\n",
       "      <td>sisA</td>\n",
       "      <td>FBgn0003411</td>\n",
       "      <td>yolk</td>\n",
       "      <td>chrX-11321889-11323310</td>\n",
       "      <td>NaN</td>\n",
       "    </tr>\n",
       "    <tr>\n",
       "      <th>50</th>\n",
       "      <td>Corp</td>\n",
       "      <td>FBgn0030028</td>\n",
       "      <td>yolk</td>\n",
       "      <td>chrX-8271108-8271973</td>\n",
       "      <td>NaN</td>\n",
       "    </tr>\n",
       "  </tbody>\n",
       "</table>\n",
       "</div>"
      ],
      "text/plain": [
       "      gene    flybaseid           germlayer          WT_1st_TSS_peak  \\\n",
       "3      ltl  FBgn0268063            mesoderm    chr3L-7518486-7520011   \n",
       "18    Doc2  FBgn0035956     dorsal_ectoderm    chr3L-9018989-9019778   \n",
       "19    Doc3  FBgn0035954     dorsal_ectoderm    chr3L-9004765-9005578   \n",
       "21     peb  FBgn0003053     dorsal_ectoderm     chrX-4616160-4617783   \n",
       "25  l(1)sc  FBgn0002561       neuroectoderm       chrX-409138-410322   \n",
       "32    geko  FBgn0020300    ventral_ectoderm  chr3L-18138075-18139990   \n",
       "41  CG2930  FBgn0028491  posterior_endoderm     chrX-3868762-3869710   \n",
       "42    Ptx1  FBgn0020912  posterior_endoderm  chr3R-30911997-30913085   \n",
       "49    sisA  FBgn0003411                yolk   chrX-11321889-11323310   \n",
       "50    Corp  FBgn0030028                yolk     chrX-8271108-8271973   \n",
       "\n",
       "   WT_1st_linked_enhancer_peak  \n",
       "3                          NaN  \n",
       "18       chr3L-9002489-9003876  \n",
       "19       chr3L-9002489-9003876  \n",
       "21                         NaN  \n",
       "25                         NaN  \n",
       "32                         NaN  \n",
       "41                         NaN  \n",
       "42                         NaN  \n",
       "49                         NaN  \n",
       "50                         NaN  "
      ]
     },
     "execution_count": 19,
     "metadata": {},
     "output_type": "execute_result"
    }
   ],
   "source": [
    "peaks[peaks['WT_1st_linked_enhancer_peak'].isin( peaks['WT_1st_linked_enhancer_peak'][peaks['WT_1st_linked_enhancer_peak'].duplicated()].tolist() ) ]"
   ]
  },
  {
   "cell_type": "code",
   "execution_count": null,
   "metadata": {},
   "outputs": [],
   "source": []
  },
  {
   "cell_type": "code",
   "execution_count": 20,
   "metadata": {},
   "outputs": [
    {
     "data": {
      "text/html": [
       "<div>\n",
       "<style scoped>\n",
       "    .dataframe tbody tr th:only-of-type {\n",
       "        vertical-align: middle;\n",
       "    }\n",
       "\n",
       "    .dataframe tbody tr th {\n",
       "        vertical-align: top;\n",
       "    }\n",
       "\n",
       "    .dataframe thead th {\n",
       "        text-align: right;\n",
       "    }\n",
       "</style>\n",
       "<table border=\"1\" class=\"dataframe\">\n",
       "  <thead>\n",
       "    <tr style=\"text-align: right;\">\n",
       "      <th></th>\n",
       "      <th>gene</th>\n",
       "      <th>flybaseid</th>\n",
       "      <th>germlayer</th>\n",
       "      <th>WT_1st_TSS_peak</th>\n",
       "      <th>WT_1st_linked_enhancer_peak</th>\n",
       "    </tr>\n",
       "  </thead>\n",
       "  <tbody>\n",
       "    <tr>\n",
       "      <th>17</th>\n",
       "      <td>Doc1</td>\n",
       "      <td>FBgn0028789</td>\n",
       "      <td>dorsal_ectoderm</td>\n",
       "      <td>chr3L-9040741-9041644</td>\n",
       "      <td>chr3L-9028885-9030154</td>\n",
       "    </tr>\n",
       "    <tr>\n",
       "      <th>42</th>\n",
       "      <td>Ptx1</td>\n",
       "      <td>FBgn0020912</td>\n",
       "      <td>posterior_endoderm</td>\n",
       "      <td>chr3R-30911997-30913085</td>\n",
       "      <td>NaN</td>\n",
       "    </tr>\n",
       "  </tbody>\n",
       "</table>\n",
       "</div>"
      ],
      "text/plain": [
       "    gene    flybaseid           germlayer          WT_1st_TSS_peak  \\\n",
       "17  Doc1  FBgn0028789     dorsal_ectoderm    chr3L-9040741-9041644   \n",
       "42  Ptx1  FBgn0020912  posterior_endoderm  chr3R-30911997-30913085   \n",
       "\n",
       "   WT_1st_linked_enhancer_peak  \n",
       "17       chr3L-9028885-9030154  \n",
       "42                         NaN  "
      ]
     },
     "execution_count": 20,
     "metadata": {},
     "output_type": "execute_result"
    }
   ],
   "source": [
    "peaks[peaks['gene'].isin(['Ptx1', 'Doc1'])]#.index"
   ]
  },
  {
   "cell_type": "code",
   "execution_count": 21,
   "metadata": {},
   "outputs": [],
   "source": [
    "# chr3L-9040741-9041644"
   ]
  },
  {
   "cell_type": "code",
   "execution_count": 22,
   "metadata": {},
   "outputs": [
    {
     "data": {
      "text/plain": [
       "chr        chr3L\n",
       "start    9028885\n",
       "end      9030154\n",
       "Name: chr3L-9028885-9030154, dtype: object"
      ]
     },
     "execution_count": 22,
     "metadata": {},
     "output_type": "execute_result"
    }
   ],
   "source": [
    "adata.var.loc['chr3L-9028885-9030154']"
   ]
  },
  {
   "cell_type": "code",
   "execution_count": null,
   "metadata": {},
   "outputs": [],
   "source": []
  },
  {
   "cell_type": "code",
   "execution_count": 23,
   "metadata": {},
   "outputs": [],
   "source": [
    "order_germ=['mesoderm',\n",
    " 'anterioposterior_ectoderm',\n",
    " 'dorsal_ectoderm',\n",
    " 'neuroectoderm',\n",
    " 'ventral_ectoderm',\n",
    " 'anterior_endoderm',\n",
    " 'posterior_endoderm','yolk',\n",
    " 'undifferentiated_cells']"
   ]
  },
  {
   "cell_type": "markdown",
   "metadata": {},
   "source": [
    "## Fold Change - Ez vs wt"
   ]
  },
  {
   "cell_type": "code",
   "execution_count": 24,
   "metadata": {},
   "outputs": [
    {
     "data": {
      "text/plain": [
       "sample\n",
       "wt     13931\n",
       "ez      6376\n",
       "nej     2051\n",
       "Name: count, dtype: int64"
      ]
     },
     "execution_count": 24,
     "metadata": {},
     "output_type": "execute_result"
    }
   ],
   "source": [
    "adata.obs['sample'].value_counts()"
   ]
  },
  {
   "cell_type": "code",
   "execution_count": 25,
   "metadata": {},
   "outputs": [],
   "source": [
    "adata.obs['group']=adata.obs['sample'].astype(str)+'-'+adata.obs['annotation_leiden12'].astype(str)"
   ]
  },
  {
   "cell_type": "code",
   "execution_count": 26,
   "metadata": {},
   "outputs": [],
   "source": [
    "pairs_dict={\n",
    "     'mesoderm': ['ez-mesoderm',  'wt-mesoderm'], \n",
    "        'anterioposterior_ectoderm':['ez-anterioposterior_ectoderm', 'wt-anterioposterior_ectoderm'],\n",
    "    'dorsal_ectoderm':['ez-dorsal_ectoderm','wt-dorsal_ectoderm'],\n",
    "    'neuroectoderm':['ez-neuroectoderm', 'wt-neuroectoderm'],\n",
    "     'ventral_ectoderm': ['ez-ventral_ectoderm','wt-ventral_ectoderm'],\n",
    "        'anterior_endoderm':['ez-anterior_endoderm','wt-anterior_endoderm'],\n",
    "        'posterior_endoderm':['ez-posterior_endoderm','wt-posterior_endoderm'], \n",
    "        'yolk':  ['ez-yolk','wt-yolk'],\n",
    "    'undifferentiated_cells':['ez-undifferentiated_cells','wt-undifferentiated_cells']\n",
    "}"
   ]
  },
  {
   "cell_type": "code",
   "execution_count": 27,
   "metadata": {},
   "outputs": [],
   "source": [
    "\n",
    "\n",
    "peaks_related_to_markers=tss_peaks#+ehn_peaks"
   ]
  },
  {
   "cell_type": "code",
   "execution_count": 28,
   "metadata": {},
   "outputs": [],
   "source": [
    "resfc={}\n",
    "resppv={}\n",
    "for k,v in pairs_dict.items():\n",
    "    sc.tl.rank_genes_groups(adata, 'group', groups=[v[0]], reference=v[1],\n",
    "                            method='wilcoxon',corr_method='benjamini-hochberg', key_added = \"%s_wilcoxon\"%(k))\n",
    "\n",
    "    result = adata.uns[\"%s_wilcoxon\"%(k)]\n",
    "    groups = result['names'].dtype.names\n",
    "    result = pd.DataFrame(\n",
    "        {group + '_' + key: result[key][group]\n",
    "        for group in groups for key in ['names', 'pvals_adj', 'logfoldchanges']})\n",
    "   # resfc[k]=[result[['ez-%s_names'%(k),'ez-%s_logfoldchanges'%(k)]]  ]  # considering pvalue?\n",
    "    result.set_index('ez-%s_names'%(k),inplace=True)\n",
    "    \n",
    "    result=result.loc[peaks_related_to_markers]\n",
    "    \n",
    "    resfc['ez-%s_logfoldchanges'%(k)]=result['ez-%s_logfoldchanges'%(k)]\n",
    "    resppv['ez-%s_pvals_adj'%(k)]=result['ez-%s_pvals_adj'%(k)]\n",
    "    \n",
    "    \n",
    "\n",
    "    \n",
    "resfc_tot=resfc.copy()\n",
    "resppv_tot=resppv.copy()\n",
    "\n",
    "resfc_tot=pd.DataFrame.from_dict(resfc_tot)\n",
    "resppv_tot=pd.DataFrame.from_dict(resppv_tot)\n",
    "\n",
    "\n",
    "resfc_tss=resfc_tot"
   ]
  },
  {
   "cell_type": "code",
   "execution_count": 29,
   "metadata": {},
   "outputs": [
    {
     "data": {
      "text/html": [
       "<div>\n",
       "<style scoped>\n",
       "    .dataframe tbody tr th:only-of-type {\n",
       "        vertical-align: middle;\n",
       "    }\n",
       "\n",
       "    .dataframe tbody tr th {\n",
       "        vertical-align: top;\n",
       "    }\n",
       "\n",
       "    .dataframe thead th {\n",
       "        text-align: right;\n",
       "    }\n",
       "</style>\n",
       "<table border=\"1\" class=\"dataframe\">\n",
       "  <thead>\n",
       "    <tr style=\"text-align: right;\">\n",
       "      <th></th>\n",
       "      <th>ez-mesoderm_logfoldchanges</th>\n",
       "      <th>ez-anterioposterior_ectoderm_logfoldchanges</th>\n",
       "      <th>ez-dorsal_ectoderm_logfoldchanges</th>\n",
       "      <th>ez-neuroectoderm_logfoldchanges</th>\n",
       "      <th>ez-ventral_ectoderm_logfoldchanges</th>\n",
       "      <th>ez-anterior_endoderm_logfoldchanges</th>\n",
       "      <th>ez-posterior_endoderm_logfoldchanges</th>\n",
       "      <th>ez-yolk_logfoldchanges</th>\n",
       "      <th>ez-undifferentiated_cells_logfoldchanges</th>\n",
       "    </tr>\n",
       "  </thead>\n",
       "  <tbody>\n",
       "    <tr>\n",
       "      <th>chr2R-18582263-18583747</th>\n",
       "      <td>-0.145916</td>\n",
       "      <td>-0.123257</td>\n",
       "      <td>-0.434818</td>\n",
       "      <td>-0.059561</td>\n",
       "      <td>0.241305</td>\n",
       "      <td>-0.424904</td>\n",
       "      <td>-0.163195</td>\n",
       "      <td>-0.056982</td>\n",
       "      <td>0.140257</td>\n",
       "    </tr>\n",
       "    <tr>\n",
       "      <th>chr3L-22944870-22945955</th>\n",
       "      <td>0.115732</td>\n",
       "      <td>0.002019</td>\n",
       "      <td>-0.087470</td>\n",
       "      <td>0.146898</td>\n",
       "      <td>-0.126102</td>\n",
       "      <td>-0.181848</td>\n",
       "      <td>0.084396</td>\n",
       "      <td>-0.676772</td>\n",
       "      <td>0.509402</td>\n",
       "    </tr>\n",
       "    <tr>\n",
       "      <th>chrX-14653509-14654386</th>\n",
       "      <td>0.529378</td>\n",
       "      <td>0.457499</td>\n",
       "      <td>0.358849</td>\n",
       "      <td>0.444029</td>\n",
       "      <td>0.494395</td>\n",
       "      <td>0.816545</td>\n",
       "      <td>0.324082</td>\n",
       "      <td>0.738879</td>\n",
       "      <td>-0.429152</td>\n",
       "    </tr>\n",
       "    <tr>\n",
       "      <th>chr3L-7518486-7520011</th>\n",
       "      <td>0.395444</td>\n",
       "      <td>-0.118659</td>\n",
       "      <td>0.092370</td>\n",
       "      <td>0.014369</td>\n",
       "      <td>0.280861</td>\n",
       "      <td>-0.043916</td>\n",
       "      <td>-0.007566</td>\n",
       "      <td>-0.174468</td>\n",
       "      <td>0.205956</td>\n",
       "    </tr>\n",
       "    <tr>\n",
       "      <th>chr2L-15476900-15478776</th>\n",
       "      <td>0.434849</td>\n",
       "      <td>0.121674</td>\n",
       "      <td>0.513764</td>\n",
       "      <td>0.179946</td>\n",
       "      <td>0.177239</td>\n",
       "      <td>0.045053</td>\n",
       "      <td>0.347829</td>\n",
       "      <td>0.080014</td>\n",
       "      <td>0.459937</td>\n",
       "    </tr>\n",
       "  </tbody>\n",
       "</table>\n",
       "</div>"
      ],
      "text/plain": [
       "                         ez-mesoderm_logfoldchanges  \\\n",
       "chr2R-18582263-18583747                   -0.145916   \n",
       "chr3L-22944870-22945955                    0.115732   \n",
       "chrX-14653509-14654386                     0.529378   \n",
       "chr3L-7518486-7520011                      0.395444   \n",
       "chr2L-15476900-15478776                    0.434849   \n",
       "\n",
       "                         ez-anterioposterior_ectoderm_logfoldchanges  \\\n",
       "chr2R-18582263-18583747                                    -0.123257   \n",
       "chr3L-22944870-22945955                                     0.002019   \n",
       "chrX-14653509-14654386                                      0.457499   \n",
       "chr3L-7518486-7520011                                      -0.118659   \n",
       "chr2L-15476900-15478776                                     0.121674   \n",
       "\n",
       "                         ez-dorsal_ectoderm_logfoldchanges  \\\n",
       "chr2R-18582263-18583747                          -0.434818   \n",
       "chr3L-22944870-22945955                          -0.087470   \n",
       "chrX-14653509-14654386                            0.358849   \n",
       "chr3L-7518486-7520011                             0.092370   \n",
       "chr2L-15476900-15478776                           0.513764   \n",
       "\n",
       "                         ez-neuroectoderm_logfoldchanges  \\\n",
       "chr2R-18582263-18583747                        -0.059561   \n",
       "chr3L-22944870-22945955                         0.146898   \n",
       "chrX-14653509-14654386                          0.444029   \n",
       "chr3L-7518486-7520011                           0.014369   \n",
       "chr2L-15476900-15478776                         0.179946   \n",
       "\n",
       "                         ez-ventral_ectoderm_logfoldchanges  \\\n",
       "chr2R-18582263-18583747                            0.241305   \n",
       "chr3L-22944870-22945955                           -0.126102   \n",
       "chrX-14653509-14654386                             0.494395   \n",
       "chr3L-7518486-7520011                              0.280861   \n",
       "chr2L-15476900-15478776                            0.177239   \n",
       "\n",
       "                         ez-anterior_endoderm_logfoldchanges  \\\n",
       "chr2R-18582263-18583747                            -0.424904   \n",
       "chr3L-22944870-22945955                            -0.181848   \n",
       "chrX-14653509-14654386                              0.816545   \n",
       "chr3L-7518486-7520011                              -0.043916   \n",
       "chr2L-15476900-15478776                             0.045053   \n",
       "\n",
       "                         ez-posterior_endoderm_logfoldchanges  \\\n",
       "chr2R-18582263-18583747                             -0.163195   \n",
       "chr3L-22944870-22945955                              0.084396   \n",
       "chrX-14653509-14654386                               0.324082   \n",
       "chr3L-7518486-7520011                               -0.007566   \n",
       "chr2L-15476900-15478776                              0.347829   \n",
       "\n",
       "                         ez-yolk_logfoldchanges  \\\n",
       "chr2R-18582263-18583747               -0.056982   \n",
       "chr3L-22944870-22945955               -0.676772   \n",
       "chrX-14653509-14654386                 0.738879   \n",
       "chr3L-7518486-7520011                 -0.174468   \n",
       "chr2L-15476900-15478776                0.080014   \n",
       "\n",
       "                         ez-undifferentiated_cells_logfoldchanges  \n",
       "chr2R-18582263-18583747                                  0.140257  \n",
       "chr3L-22944870-22945955                                  0.509402  \n",
       "chrX-14653509-14654386                                  -0.429152  \n",
       "chr3L-7518486-7520011                                    0.205956  \n",
       "chr2L-15476900-15478776                                  0.459937  "
      ]
     },
     "execution_count": 29,
     "metadata": {},
     "output_type": "execute_result"
    }
   ],
   "source": [
    "resfc_tss.head()"
   ]
  },
  {
   "cell_type": "code",
   "execution_count": 30,
   "metadata": {},
   "outputs": [],
   "source": [
    "## peaks to genes\n",
    "\n",
    "resfc_tss=peaks[['gene','WT_1st_TSS_peak']].merge(resfc_tss, left_on='WT_1st_TSS_peak', right_index=True, how='outer' )\n",
    "resfc_tss.drop('WT_1st_TSS_peak', axis=1, inplace=True)\n",
    "resfc_tss.set_index('gene', inplace=True)"
   ]
  },
  {
   "cell_type": "code",
   "execution_count": 31,
   "metadata": {},
   "outputs": [],
   "source": [
    "resfc_tss=resfc_tss.loc[peaks['gene']]"
   ]
  },
  {
   "cell_type": "code",
   "execution_count": 32,
   "metadata": {},
   "outputs": [
    {
     "data": {
      "text/html": [
       "<div>\n",
       "<style scoped>\n",
       "    .dataframe tbody tr th:only-of-type {\n",
       "        vertical-align: middle;\n",
       "    }\n",
       "\n",
       "    .dataframe tbody tr th {\n",
       "        vertical-align: top;\n",
       "    }\n",
       "\n",
       "    .dataframe thead th {\n",
       "        text-align: right;\n",
       "    }\n",
       "</style>\n",
       "<table border=\"1\" class=\"dataframe\">\n",
       "  <thead>\n",
       "    <tr style=\"text-align: right;\">\n",
       "      <th></th>\n",
       "      <th>ez-mesoderm_logfoldchanges</th>\n",
       "      <th>ez-anterioposterior_ectoderm_logfoldchanges</th>\n",
       "      <th>ez-dorsal_ectoderm_logfoldchanges</th>\n",
       "      <th>ez-neuroectoderm_logfoldchanges</th>\n",
       "      <th>ez-ventral_ectoderm_logfoldchanges</th>\n",
       "      <th>ez-anterior_endoderm_logfoldchanges</th>\n",
       "      <th>ez-posterior_endoderm_logfoldchanges</th>\n",
       "      <th>ez-yolk_logfoldchanges</th>\n",
       "      <th>ez-undifferentiated_cells_logfoldchanges</th>\n",
       "    </tr>\n",
       "    <tr>\n",
       "      <th>gene</th>\n",
       "      <th></th>\n",
       "      <th></th>\n",
       "      <th></th>\n",
       "      <th></th>\n",
       "      <th></th>\n",
       "      <th></th>\n",
       "      <th></th>\n",
       "      <th></th>\n",
       "      <th></th>\n",
       "    </tr>\n",
       "  </thead>\n",
       "  <tbody>\n",
       "    <tr>\n",
       "      <th>GEFmeso</th>\n",
       "      <td>-0.145916</td>\n",
       "      <td>-0.123257</td>\n",
       "      <td>-0.434818</td>\n",
       "      <td>-0.059561</td>\n",
       "      <td>0.241305</td>\n",
       "      <td>-0.424904</td>\n",
       "      <td>-0.163195</td>\n",
       "      <td>-0.056982</td>\n",
       "      <td>0.140257</td>\n",
       "    </tr>\n",
       "    <tr>\n",
       "      <th>Mes2</th>\n",
       "      <td>0.115732</td>\n",
       "      <td>0.002019</td>\n",
       "      <td>-0.087470</td>\n",
       "      <td>0.146898</td>\n",
       "      <td>-0.126102</td>\n",
       "      <td>-0.181848</td>\n",
       "      <td>0.084396</td>\n",
       "      <td>-0.676772</td>\n",
       "      <td>0.509402</td>\n",
       "    </tr>\n",
       "    <tr>\n",
       "      <th>NetA</th>\n",
       "      <td>0.529378</td>\n",
       "      <td>0.457499</td>\n",
       "      <td>0.358849</td>\n",
       "      <td>0.444029</td>\n",
       "      <td>0.494395</td>\n",
       "      <td>0.816545</td>\n",
       "      <td>0.324082</td>\n",
       "      <td>0.738879</td>\n",
       "      <td>-0.429152</td>\n",
       "    </tr>\n",
       "    <tr>\n",
       "      <th>ltl</th>\n",
       "      <td>0.395444</td>\n",
       "      <td>-0.118659</td>\n",
       "      <td>0.092370</td>\n",
       "      <td>0.014369</td>\n",
       "      <td>0.280861</td>\n",
       "      <td>-0.043916</td>\n",
       "      <td>-0.007566</td>\n",
       "      <td>-0.174468</td>\n",
       "      <td>0.205956</td>\n",
       "    </tr>\n",
       "    <tr>\n",
       "      <th>sna</th>\n",
       "      <td>0.434849</td>\n",
       "      <td>0.121674</td>\n",
       "      <td>0.513764</td>\n",
       "      <td>0.179946</td>\n",
       "      <td>0.177239</td>\n",
       "      <td>0.045053</td>\n",
       "      <td>0.347829</td>\n",
       "      <td>0.080014</td>\n",
       "      <td>0.459937</td>\n",
       "    </tr>\n",
       "  </tbody>\n",
       "</table>\n",
       "</div>"
      ],
      "text/plain": [
       "         ez-mesoderm_logfoldchanges  \\\n",
       "gene                                  \n",
       "GEFmeso                   -0.145916   \n",
       "Mes2                       0.115732   \n",
       "NetA                       0.529378   \n",
       "ltl                        0.395444   \n",
       "sna                        0.434849   \n",
       "\n",
       "         ez-anterioposterior_ectoderm_logfoldchanges  \\\n",
       "gene                                                   \n",
       "GEFmeso                                    -0.123257   \n",
       "Mes2                                        0.002019   \n",
       "NetA                                        0.457499   \n",
       "ltl                                        -0.118659   \n",
       "sna                                         0.121674   \n",
       "\n",
       "         ez-dorsal_ectoderm_logfoldchanges  ez-neuroectoderm_logfoldchanges  \\\n",
       "gene                                                                          \n",
       "GEFmeso                          -0.434818                        -0.059561   \n",
       "Mes2                             -0.087470                         0.146898   \n",
       "NetA                              0.358849                         0.444029   \n",
       "ltl                               0.092370                         0.014369   \n",
       "sna                               0.513764                         0.179946   \n",
       "\n",
       "         ez-ventral_ectoderm_logfoldchanges  \\\n",
       "gene                                          \n",
       "GEFmeso                            0.241305   \n",
       "Mes2                              -0.126102   \n",
       "NetA                               0.494395   \n",
       "ltl                                0.280861   \n",
       "sna                                0.177239   \n",
       "\n",
       "         ez-anterior_endoderm_logfoldchanges  \\\n",
       "gene                                           \n",
       "GEFmeso                            -0.424904   \n",
       "Mes2                               -0.181848   \n",
       "NetA                                0.816545   \n",
       "ltl                                -0.043916   \n",
       "sna                                 0.045053   \n",
       "\n",
       "         ez-posterior_endoderm_logfoldchanges  ez-yolk_logfoldchanges  \\\n",
       "gene                                                                    \n",
       "GEFmeso                             -0.163195               -0.056982   \n",
       "Mes2                                 0.084396               -0.676772   \n",
       "NetA                                 0.324082                0.738879   \n",
       "ltl                                 -0.007566               -0.174468   \n",
       "sna                                  0.347829                0.080014   \n",
       "\n",
       "         ez-undifferentiated_cells_logfoldchanges  \n",
       "gene                                               \n",
       "GEFmeso                                  0.140257  \n",
       "Mes2                                     0.509402  \n",
       "NetA                                    -0.429152  \n",
       "ltl                                      0.205956  \n",
       "sna                                      0.459937  "
      ]
     },
     "execution_count": 32,
     "metadata": {},
     "output_type": "execute_result"
    }
   ],
   "source": [
    "resfc_tss.head()"
   ]
  },
  {
   "cell_type": "code",
   "execution_count": 37,
   "metadata": {},
   "outputs": [],
   "source": [
    "resppv_tot.index=resppv_tot.index.map(dict(zip(peaks['WT_1st_TSS_peak'], peaks['gene'])))"
   ]
  },
  {
   "cell_type": "code",
   "execution_count": 39,
   "metadata": {},
   "outputs": [],
   "source": [
    "resfc_df=resfc_tss.copy()\n",
    "resppv_df=resppv_tot.copy()\n",
    "\n",
    "save_df=pd.concat([resppv_df, resfc_df], axis=1)\n",
    "\n",
    "save_df.columns=[e.replace('ez-', 'ez_vs_wt-') for e in save_df.columns.tolist() ]\n",
    "\n",
    "col=save_df.columns.tolist()\n",
    "col.sort()\n",
    "\n",
    "save_df=save_df[col]\n",
    "save_df['peak']=save_df.index.map(dict(zip( peaks['gene'], peaks['WT_1st_TSS_peak'])))"
   ]
  },
  {
   "cell_type": "code",
   "execution_count": null,
   "metadata": {},
   "outputs": [],
   "source": []
  },
  {
   "cell_type": "code",
   "execution_count": 39,
   "metadata": {},
   "outputs": [],
   "source": [
    "import matplotlib\n",
    "cmap = matplotlib.colormaps.get_cmap('PiYG')  # viridis is the default colormap for imshow\n",
    "cmap.set_bad(color='lightgrey')"
   ]
  },
  {
   "cell_type": "code",
   "execution_count": 40,
   "metadata": {},
   "outputs": [],
   "source": [
    "cmap_greygreen = matplotlib.colors.LinearSegmentedColormap.from_list(\"\", \n",
    "                                                                     ['White','White','Green'])\n",
    "cmap_greygreen.set_bad(color='lightgrey')"
   ]
  },
  {
   "cell_type": "code",
   "execution_count": 41,
   "metadata": {},
   "outputs": [],
   "source": [
    "# palette purple to greens (tss/enh)\n",
    "\n",
    "cmap_purplegreen_tss = matplotlib.colors.LinearSegmentedColormap.from_list(\"\", list(sns.color_palette('PiYG',9)[:3])+[ \"white\", '#59bab3', '#32a59c', '#159b91']) \n",
    "cmap_purplegreen_enh = matplotlib.colors.LinearSegmentedColormap.from_list(\"\", list(sns.color_palette('PiYG',9)[:3])+[ \"white\", '#7fc16d', '#50b957', '#2bb54e']) \n",
    "cmap_purplegreen_tss.set_bad(color='lightgrey')\n",
    "cmap_purplegreen_enh.set_bad(color='lightgrey') "
   ]
  },
  {
   "cell_type": "code",
   "execution_count": null,
   "metadata": {},
   "outputs": [],
   "source": []
  },
  {
   "cell_type": "code",
   "execution_count": 36,
   "metadata": {},
   "outputs": [],
   "source": [
    "mutant='ez'"
   ]
  },
  {
   "cell_type": "code",
   "execution_count": 37,
   "metadata": {},
   "outputs": [
    {
     "data": {
      "image/png": "[encoded data removed]",
      "text/plain": [
       "<Figure size 2400x200 with 2 Axes>"
      ]
     },
     "metadata": {},
     "output_type": "display_data"
    }
   ],
   "source": [
    "\n",
    "divnorm=colors.TwoSlopeNorm(vmin=-1.5, vcenter=0., vmax=1.5)\n",
    "\n",
    "fig,axs=plt.subplots(1,1,figsize=(24,2))\n",
    "shw1=plt.imshow(resfc_tss.T,cmap=cmap_purplegreen_tss, #cmap, #'PiYG',#linewidths=0.2, linecolor='white',  #annot=True, \n",
    "            norm=divnorm, )\n",
    "plt.grid(visible=False)\n",
    "plt.title('logFC ez vs wt - 1st TSS (wt only -peaks)')\n",
    "plt.xlabel('')\n",
    "axs.set_xticks(np.arange(len(resfc_tss.index)))\n",
    "axs.set_xticklabels(resfc_tss.index,rotation=90 )\n",
    "axs.set_yticks(np.arange(len(resfc_tss.columns)))\n",
    "axs.set_yticklabels(resfc_tss.columns,rotation=0 )\n",
    "bar1 = plt.colorbar(shw1)\n",
    "bar1.set_label('logFC')\n",
    "\n",
    "#plt.savefig('./figures/heatmap_%s_vs_wt_1st_TSS_wtpeaks_markers.pdf'%(mutant))"
   ]
  },
  {
   "cell_type": "markdown",
   "metadata": {},
   "source": [
    "### Enhancers"
   ]
  },
  {
   "cell_type": "code",
   "execution_count": 27,
   "metadata": {},
   "outputs": [],
   "source": [
    "peaks_related_to_markers=list(set(ehn_peaks))"
   ]
  },
  {
   "cell_type": "code",
   "execution_count": 28,
   "metadata": {},
   "outputs": [],
   "source": [
    "## Enhancers\n",
    "\n",
    "resfc={}\n",
    "resppv={}\n",
    "for k,v in pairs_dict.items():\n",
    "    sc.tl.rank_genes_groups(adata, 'group', groups=[v[0]], reference=v[1],\n",
    "                            method='wilcoxon',corr_method='benjamini-hochberg', key_added = \"%s_wilcoxon\"%(k))\n",
    "\n",
    "    result = adata.uns[\"%s_wilcoxon\"%(k)]\n",
    "    groups = result['names'].dtype.names\n",
    "    result = pd.DataFrame(\n",
    "        {group + '_' + key: result[key][group]\n",
    "        for group in groups for key in ['names', 'pvals_adj', 'logfoldchanges']})\n",
    "   # resfc[k]=[result[['ez-%s_names'%(k),'ez-%s_logfoldchanges'%(k)]]  ]  # considering pvalue?\n",
    "    result.set_index('ez-%s_names'%(k),inplace=True)\n",
    "    \n",
    "    result=result.loc[peaks_related_to_markers]\n",
    "    \n",
    "    resfc['ez-%s_logfoldchanges'%(k)]=result['ez-%s_logfoldchanges'%(k)]\n",
    "    resppv['ez-%s_pvals_adj'%(k)]=result['ez-%s_pvals_adj'%(k)]\n",
    "    \n",
    "\n",
    "    \n",
    "resfc_tot=resfc.copy()\n",
    "resppv_tot=resppv.copy()\n",
    "\n",
    "resfc_tot=pd.DataFrame.from_dict(resfc_tot)\n",
    "resppv_tot=pd.DataFrame.from_dict(resppv_tot)\n",
    "\n",
    "resfc_ehn=resfc_tot"
   ]
  },
  {
   "cell_type": "code",
   "execution_count": 29,
   "metadata": {},
   "outputs": [
    {
     "data": {
      "text/html": [
       "<div>\n",
       "<style scoped>\n",
       "    .dataframe tbody tr th:only-of-type {\n",
       "        vertical-align: middle;\n",
       "    }\n",
       "\n",
       "    .dataframe tbody tr th {\n",
       "        vertical-align: top;\n",
       "    }\n",
       "\n",
       "    .dataframe thead th {\n",
       "        text-align: right;\n",
       "    }\n",
       "</style>\n",
       "<table border=\"1\" class=\"dataframe\">\n",
       "  <thead>\n",
       "    <tr style=\"text-align: right;\">\n",
       "      <th></th>\n",
       "      <th>ez-mesoderm_logfoldchanges</th>\n",
       "      <th>ez-anterioposterior_ectoderm_logfoldchanges</th>\n",
       "      <th>ez-dorsal_ectoderm_logfoldchanges</th>\n",
       "      <th>ez-neuroectoderm_logfoldchanges</th>\n",
       "      <th>ez-ventral_ectoderm_logfoldchanges</th>\n",
       "      <th>ez-anterior_endoderm_logfoldchanges</th>\n",
       "      <th>ez-posterior_endoderm_logfoldchanges</th>\n",
       "      <th>ez-yolk_logfoldchanges</th>\n",
       "      <th>ez-undifferentiated_cells_logfoldchanges</th>\n",
       "    </tr>\n",
       "  </thead>\n",
       "  <tbody>\n",
       "    <tr>\n",
       "      <th>chr2L-12457103-12458953</th>\n",
       "      <td>0.496174</td>\n",
       "      <td>0.392726</td>\n",
       "      <td>0.632106</td>\n",
       "      <td>0.485266</td>\n",
       "      <td>-0.013687</td>\n",
       "      <td>0.319033</td>\n",
       "      <td>0.368346</td>\n",
       "      <td>0.487633</td>\n",
       "      <td>0.282642</td>\n",
       "    </tr>\n",
       "    <tr>\n",
       "      <th>chr3L-21479468-21480937</th>\n",
       "      <td>0.440441</td>\n",
       "      <td>0.048984</td>\n",
       "      <td>0.693317</td>\n",
       "      <td>0.378539</td>\n",
       "      <td>0.431837</td>\n",
       "      <td>0.165610</td>\n",
       "      <td>0.150700</td>\n",
       "      <td>-0.124291</td>\n",
       "      <td>0.332400</td>\n",
       "    </tr>\n",
       "    <tr>\n",
       "      <th>chr2R-6182791-6183603</th>\n",
       "      <td>-0.435178</td>\n",
       "      <td>-0.132070</td>\n",
       "      <td>-1.558082</td>\n",
       "      <td>-0.400081</td>\n",
       "      <td>-0.448943</td>\n",
       "      <td>-0.730185</td>\n",
       "      <td>-0.257357</td>\n",
       "      <td>-0.274672</td>\n",
       "      <td>-1.147615</td>\n",
       "    </tr>\n",
       "    <tr>\n",
       "      <th>chr3R-14589543-14590113</th>\n",
       "      <td>0.432366</td>\n",
       "      <td>0.109694</td>\n",
       "      <td>-0.810714</td>\n",
       "      <td>0.281044</td>\n",
       "      <td>-0.066269</td>\n",
       "      <td>-0.048925</td>\n",
       "      <td>0.651637</td>\n",
       "      <td>0.494645</td>\n",
       "      <td>-0.002715</td>\n",
       "    </tr>\n",
       "    <tr>\n",
       "      <th>chr2R-18568255-18569046</th>\n",
       "      <td>0.265158</td>\n",
       "      <td>0.080754</td>\n",
       "      <td>-0.020645</td>\n",
       "      <td>0.395025</td>\n",
       "      <td>0.309336</td>\n",
       "      <td>0.676360</td>\n",
       "      <td>0.967902</td>\n",
       "      <td>1.471869</td>\n",
       "      <td>0.508665</td>\n",
       "    </tr>\n",
       "  </tbody>\n",
       "</table>\n",
       "</div>"
      ],
      "text/plain": [
       "                         ez-mesoderm_logfoldchanges  \\\n",
       "chr2L-12457103-12458953                    0.496174   \n",
       "chr3L-21479468-21480937                    0.440441   \n",
       "chr2R-6182791-6183603                     -0.435178   \n",
       "chr3R-14589543-14590113                    0.432366   \n",
       "chr2R-18568255-18569046                    0.265158   \n",
       "\n",
       "                         ez-anterioposterior_ectoderm_logfoldchanges  \\\n",
       "chr2L-12457103-12458953                                     0.392726   \n",
       "chr3L-21479468-21480937                                     0.048984   \n",
       "chr2R-6182791-6183603                                      -0.132070   \n",
       "chr3R-14589543-14590113                                     0.109694   \n",
       "chr2R-18568255-18569046                                     0.080754   \n",
       "\n",
       "                         ez-dorsal_ectoderm_logfoldchanges  \\\n",
       "chr2L-12457103-12458953                           0.632106   \n",
       "chr3L-21479468-21480937                           0.693317   \n",
       "chr2R-6182791-6183603                            -1.558082   \n",
       "chr3R-14589543-14590113                          -0.810714   \n",
       "chr2R-18568255-18569046                          -0.020645   \n",
       "\n",
       "                         ez-neuroectoderm_logfoldchanges  \\\n",
       "chr2L-12457103-12458953                         0.485266   \n",
       "chr3L-21479468-21480937                         0.378539   \n",
       "chr2R-6182791-6183603                          -0.400081   \n",
       "chr3R-14589543-14590113                         0.281044   \n",
       "chr2R-18568255-18569046                         0.395025   \n",
       "\n",
       "                         ez-ventral_ectoderm_logfoldchanges  \\\n",
       "chr2L-12457103-12458953                           -0.013687   \n",
       "chr3L-21479468-21480937                            0.431837   \n",
       "chr2R-6182791-6183603                             -0.448943   \n",
       "chr3R-14589543-14590113                           -0.066269   \n",
       "chr2R-18568255-18569046                            0.309336   \n",
       "\n",
       "                         ez-anterior_endoderm_logfoldchanges  \\\n",
       "chr2L-12457103-12458953                             0.319033   \n",
       "chr3L-21479468-21480937                             0.165610   \n",
       "chr2R-6182791-6183603                              -0.730185   \n",
       "chr3R-14589543-14590113                            -0.048925   \n",
       "chr2R-18568255-18569046                             0.676360   \n",
       "\n",
       "                         ez-posterior_endoderm_logfoldchanges  \\\n",
       "chr2L-12457103-12458953                              0.368346   \n",
       "chr3L-21479468-21480937                              0.150700   \n",
       "chr2R-6182791-6183603                               -0.257357   \n",
       "chr3R-14589543-14590113                              0.651637   \n",
       "chr2R-18568255-18569046                              0.967902   \n",
       "\n",
       "                         ez-yolk_logfoldchanges  \\\n",
       "chr2L-12457103-12458953                0.487633   \n",
       "chr3L-21479468-21480937               -0.124291   \n",
       "chr2R-6182791-6183603                 -0.274672   \n",
       "chr3R-14589543-14590113                0.494645   \n",
       "chr2R-18568255-18569046                1.471869   \n",
       "\n",
       "                         ez-undifferentiated_cells_logfoldchanges  \n",
       "chr2L-12457103-12458953                                  0.282642  \n",
       "chr3L-21479468-21480937                                  0.332400  \n",
       "chr2R-6182791-6183603                                   -1.147615  \n",
       "chr3R-14589543-14590113                                 -0.002715  \n",
       "chr2R-18568255-18569046                                  0.508665  "
      ]
     },
     "execution_count": 29,
     "metadata": {},
     "output_type": "execute_result"
    }
   ],
   "source": [
    "resfc_ehn.head()"
   ]
  },
  {
   "cell_type": "code",
   "execution_count": 30,
   "metadata": {},
   "outputs": [
    {
     "data": {
      "text/plain": [
       "(43, 9)"
      ]
     },
     "execution_count": 30,
     "metadata": {},
     "output_type": "execute_result"
    }
   ],
   "source": [
    "resfc_ehn.shape"
   ]
  },
  {
   "cell_type": "code",
   "execution_count": 31,
   "metadata": {},
   "outputs": [],
   "source": [
    "## peaks to genes\n",
    "\n",
    "resfc_ehn=peaks[['gene','WT_1st_linked_enhancer_peak']].merge(resfc_ehn, left_on='WT_1st_linked_enhancer_peak', right_index=True, how='outer' )\n",
    "resfc_ehn.drop('WT_1st_linked_enhancer_peak', axis=1, inplace=True)\n",
    "resfc_ehn.set_index('gene', inplace=True)"
   ]
  },
  {
   "cell_type": "code",
   "execution_count": 32,
   "metadata": {},
   "outputs": [],
   "source": [
    "resfc_ehn=resfc_ehn.loc[peaks['gene']]"
   ]
  },
  {
   "cell_type": "code",
   "execution_count": 42,
   "metadata": {},
   "outputs": [
    {
     "data": {
      "image/png": "[encoded data removed]",
      "text/plain": [
       "<Figure size 1800x400 with 2 Axes>"
      ]
     },
     "metadata": {},
     "output_type": "display_data"
    }
   ],
   "source": [
    "divnorm=colors.TwoSlopeNorm(vmin=-1.5, vcenter=0., vmax=1.5)\n",
    "\n",
    "fig,axs=plt.subplots(1,1,figsize=(18,4))\n",
    "shw1=plt.imshow(resfc_ehn.T,cmap=cmap_purplegreen_enh, #cmap, #'PiYG',#linewidths=0.2, linecolor='white',  #annot=True, \n",
    "            norm=divnorm, )\n",
    "plt.grid(visible=False)\n",
    "plt.title('logFC ez vs wt - 1st linked enhancer (wt only -peaks)')\n",
    "plt.xlabel('')\n",
    "axs.set_xticks(np.arange(len(resfc_ehn.index)))\n",
    "axs.set_xticklabels(resfc_ehn.index,rotation=90 )\n",
    "axs.set_yticks(np.arange(len(resfc_ehn.columns)))\n",
    "axs.set_yticklabels(resfc_ehn.columns,rotation=0 )\n",
    "bar1 = plt.colorbar(shw1)\n",
    "bar1.set_label('logFC')\n",
    "plt.tight_layout()\n",
    "\n",
    "#plt.savefig('./figures/heatmap_%s_vs_wt_1st_enhancer_wtpeaks_markers.pdf'%(mutant))"
   ]
  },
  {
   "cell_type": "code",
   "execution_count": null,
   "metadata": {},
   "outputs": [],
   "source": []
  },
  {
   "cell_type": "code",
   "execution_count": 12,
   "metadata": {},
   "outputs": [
    {
     "data": {
      "text/html": [
       "<details>\n",
       "<summary>Click to view session information</summary>\n",
       "<pre>\n",
       "-----\n",
       "anndata             0.9.0\n",
       "matplotlib          3.9.2\n",
       "numpy               1.23.1\n",
       "pandas              2.0.3\n",
       "scanpy              1.9.3\n",
       "seaborn             0.13.2\n",
       "session_info        1.0.0\n",
       "-----\n",
       "</pre>\n",
       "<details>\n",
       "<summary>Click to view modules imported as dependencies</summary>\n",
       "<pre>\n",
       "PIL                         9.4.0\n",
       "anyio                       NA\n",
       "arrow                       1.3.0\n",
       "asttokens                   NA\n",
       "attr                        23.1.0\n",
       "attrs                       23.1.0\n",
       "babel                       2.12.1\n",
       "backcall                    0.2.0\n",
       "beta_ufunc                  NA\n",
       "binom_ufunc                 NA\n",
       "bottleneck                  1.3.5\n",
       "brotli                      NA\n",
       "certifi                     2024.08.30\n",
       "cffi                        1.15.1\n",
       "charset_normalizer          2.0.4\n",
       "cloudpickle                 2.2.1\n",
       "colorama                    0.4.6\n",
       "comm                        0.1.2\n",
       "cycler                      0.10.0\n",
       "cython_runtime              NA\n",
       "cytoolz                     0.12.2\n",
       "dask                        2023.8.1\n",
       "dateutil                    2.8.2\n",
       "debugpy                     1.5.1\n",
       "decorator                   5.1.1\n",
       "defusedxml                  0.7.1\n",
       "exceptiongroup              1.1.3\n",
       "executing                   0.8.3\n",
       "fastjsonschema              NA\n",
       "fqdn                        NA\n",
       "google                      NA\n",
       "h5py                        3.1.0\n",
       "hypergeom_ufunc             NA\n",
       "idna                        3.4\n",
       "igraph                      0.10.4\n",
       "importlib_metadata          NA\n",
       "importlib_resources         NA\n",
       "invgauss_ufunc              NA\n",
       "ipykernel                   6.19.2\n",
       "ipywidgets                  8.0.6\n",
       "isoduration                 NA\n",
       "jedi                        0.18.1\n",
       "jinja2                      3.1.2\n",
       "joblib                      1.1.1\n",
       "json5                       0.9.25\n",
       "jsonpointer                 3.0.0\n",
       "jsonschema                  4.19.0\n",
       "jsonschema_specifications   NA\n",
       "jupyter_events              0.10.0\n",
       "jupyter_server              2.14.1\n",
       "jupyterlab_server           2.27.2\n",
       "kiwisolver                  1.4.4\n",
       "leidenalg                   0.9.1\n",
       "llvmlite                    0.43.0\n",
       "louvain                     0.8.0\n",
       "lz4                         4.3.2\n",
       "markupsafe                  2.1.1\n",
       "mpl_toolkits                NA\n",
       "natsort                     8.3.1\n",
       "nbformat                    5.9.2\n",
       "nbinom_ufunc                NA\n",
       "ncf_ufunc                   NA\n",
       "nct_ufunc                   NA\n",
       "ncx2_ufunc                  NA\n",
       "numba                       0.60.0\n",
       "numexpr                     2.8.4\n",
       "overrides                   NA\n",
       "packaging                   23.0\n",
       "parso                       0.8.3\n",
       "patsy                       0.5.3\n",
       "pexpect                     4.8.0\n",
       "pickleshare                 0.7.5\n",
       "pkg_resources               NA\n",
       "platformdirs                2.5.2\n",
       "plotly                      5.14.1\n",
       "prometheus_client           NA\n",
       "prompt_toolkit              3.0.36\n",
       "psutil                      5.9.0\n",
       "ptyprocess                  0.7.0\n",
       "pure_eval                   0.2.2\n",
       "pyarrow                     13.0.0\n",
       "pydev_ipython               NA\n",
       "pydevconsole                NA\n",
       "pydevd                      2.6.0\n",
       "pydevd_concurrency_analyser NA\n",
       "pydevd_file_utils           NA\n",
       "pydevd_plugins              NA\n",
       "pydevd_tracing              NA\n",
       "pygments                    2.17.2\n",
       "pyparsing                   3.0.9\n",
       "pythonjsonlogger            NA\n",
       "pytz                        2022.7\n",
       "referencing                 NA\n",
       "requests                    2.32.3\n",
       "rfc3339_validator           0.1.4\n",
       "rfc3986_validator           0.1.1\n",
       "rpds                        NA\n",
       "scipy                       1.10.1\n",
       "send2trash                  NA\n",
       "setuptools                  66.0.0\n",
       "six                         1.16.0\n",
       "skewnorm_ufunc              NA\n",
       "sklearn                     1.3.0\n",
       "sniffio                     1.3.1\n",
       "socks                       1.7.1\n",
       "sphinxcontrib               NA\n",
       "stack_data                  0.2.0\n",
       "statsmodels                 0.14.0\n",
       "tblib                       2.0.0\n",
       "texttable                   1.6.4\n",
       "threadpoolctl               2.2.0\n",
       "tlz                         0.12.2\n",
       "toolz                       0.12.0\n",
       "tornado                     6.2\n",
       "traitlets                   5.7.1\n",
       "typing_extensions           NA\n",
       "uri_template                NA\n",
       "urllib3                     1.26.15\n",
       "wcwidth                     0.2.5\n",
       "webcolors                   24.6.0\n",
       "websocket                   1.8.0\n",
       "yaml                        6.0.1\n",
       "zipp                        NA\n",
       "zmq                         25.1.2\n",
       "zoneinfo                    NA\n",
       "zope                        NA\n",
       "</pre>\n",
       "</details> <!-- seems like this ends pre, so might as well be explicit -->\n",
       "<pre>\n",
       "-----\n",
       "IPython             8.12.0\n",
       "jupyter_client      8.1.0\n",
       "jupyter_core        5.3.0\n",
       "jupyterlab          4.2.3\n",
       "notebook            7.2.1\n",
       "-----\n",
       "Python 3.9.20 (main, Oct  3 2024, 07:27:41) [GCC 11.2.0]\n",
       "Linux-3.10.0-1160.el7.x86_64-x86_64-with-glibc2.17\n",
       "-----\n",
       "Session information updated at 2025-02-21 12:13\n",
       "</pre>\n",
       "</details>"
      ],
      "text/plain": [
       "<IPython.core.display.HTML object>"
      ]
     },
     "execution_count": 12,
     "metadata": {},
     "output_type": "execute_result"
    }
   ],
   "source": [
    "import session_info\n",
    "session_info.show()"
   ]
  },
  {
   "cell_type": "code",
   "execution_count": null,
   "metadata": {},
   "outputs": [],
   "source": []
  }
 ],
 "metadata": {
  "kernelspec": {
   "display_name": "myenv",
   "language": "python",
   "name": "myenv"
  },
  "language_info": {
   "codemirror_mode": {
    "name": "ipython",
    "version": 3
   },
   "file_extension": ".py",
   "mimetype": "text/x-python",
   "name": "python",
   "nbconvert_exporter": "python",
   "pygments_lexer": "ipython3",
   "version": "3.9.20"
  }
 },
 "nbformat": 4,
 "nbformat_minor": 4
}
