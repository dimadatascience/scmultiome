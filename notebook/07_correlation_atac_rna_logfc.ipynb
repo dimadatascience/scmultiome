{
 "cells": [
  {
   "cell_type": "code",
   "execution_count": 1,
   "metadata": {},
   "outputs": [],
   "source": [
    "import pandas as pd\n",
    "import scanpy as sc\n",
    "import numpy as np\n",
    "import scipy as sp\n",
    "import matplotlib.pyplot as plt\n",
    "import seaborn as sns\n",
    "from matplotlib import colors\n",
    "import random\n",
    "import anndata"
   ]
  },
  {
   "cell_type": "code",
   "execution_count": 2,
   "metadata": {},
   "outputs": [],
   "source": [
    "import warnings\n",
    "warnings.filterwarnings('ignore')"
   ]
  },
  {
   "cell_type": "code",
   "execution_count": 3,
   "metadata": {},
   "outputs": [],
   "source": [
    "## path to repository\n",
    "import os\n",
    "os.chdir('/hpcnfs/scratch/DIMA/piva/mpi_freiburg/scmultiome/')"
   ]
  },
  {
   "cell_type": "markdown",
   "metadata": {},
   "source": [
    "## Correlation EZ - WT - GEX to Enh and GEX to TSS"
   ]
  },
  {
   "cell_type": "code",
   "execution_count": 7,
   "metadata": {},
   "outputs": [],
   "source": [
    "from scipy.stats import pearsonr, spearmanr"
   ]
  },
  {
   "cell_type": "code",
   "execution_count": 8,
   "metadata": {},
   "outputs": [],
   "source": [
    "mutant='ez' # 'cbp'"
   ]
  },
  {
   "cell_type": "code",
   "execution_count": 9,
   "metadata": {},
   "outputs": [],
   "source": [
    "threshold=0.01\n",
    "\n",
    "if mutant =='ez':\n",
    "    resfc=pd.read_csv('/hpcnfs/scratch/DIMA/piva/mpi_freiburg/tables/matrix_RNA_%s_vs_wt_threshold%spct.csv'%(mutant, threshold), index_col=[0])\n",
    "    res_ehn=pd.read_csv('/hpcnfs/scratch/DIMA/piva/mpi_freiburg/tables/matrix_1stEnhancer_%s_vs_wt_markers.csv'%(mutant), index_col=[0])\n",
    "    res_tss=pd.read_csv('/hpcnfs/scratch/DIMA/piva/mpi_freiburg/tables/matrix_TSS_%s_vs_wt_markers.csv'%(mutant), index_col=[0])\n",
    "else:\n",
    "    resfc=pd.read_csv('/hpcnfs/scratch/DIMA/piva/mpi_freiburg/tables/matrix_heatmap_%s_vs_wt_markers_threshold%s.csv'%(mutant, threshold), index_col=[0])\n",
    "    res_ehn=pd.read_csv('/hpcnfs/scratch/DIMA/piva/mpi_freiburg/tables/matrix_1stEnhancer_%s_vs_wt_markers.csv'%(mutant), index_col=[0])\n",
    "    res_tss=pd.read_csv('/hpcnfs/scratch/DIMA/piva/mpi_freiburg/tables/matrix_1stTSS_%s_vs_wt_markers.csv'%(mutant), index_col=[0])\n"
   ]
  },
  {
   "cell_type": "code",
   "execution_count": 10,
   "metadata": {},
   "outputs": [
    {
     "data": {
      "text/html": [
       "<div>\n",
       "<style scoped>\n",
       "    .dataframe tbody tr th:only-of-type {\n",
       "        vertical-align: middle;\n",
       "    }\n",
       "\n",
       "    .dataframe tbody tr th {\n",
       "        vertical-align: top;\n",
       "    }\n",
       "\n",
       "    .dataframe thead th {\n",
       "        text-align: right;\n",
       "    }\n",
       "</style>\n",
       "<table border=\"1\" class=\"dataframe\">\n",
       "  <thead>\n",
       "    <tr style=\"text-align: right;\">\n",
       "      <th></th>\n",
       "      <th>ez-mesoderm_logfoldchanges</th>\n",
       "      <th>ez-anterioposterior_ectoderm_logfoldchanges</th>\n",
       "      <th>ez-dorsal_ectoderm_logfoldchanges</th>\n",
       "      <th>ez-neuroectoderm_logfoldchanges</th>\n",
       "      <th>ez-ventral_ectoderm_logfoldchanges</th>\n",
       "      <th>ez-anterior_endoderm_logfoldchanges</th>\n",
       "      <th>ez-posterior_endoderm_logfoldchanges</th>\n",
       "      <th>ez-yolk_logfoldchanges</th>\n",
       "      <th>ez-undifferentiated_cells_logfoldchanges</th>\n",
       "    </tr>\n",
       "  </thead>\n",
       "  <tbody>\n",
       "    <tr>\n",
       "      <th>GEFmeso</th>\n",
       "      <td>-1.302467</td>\n",
       "      <td>-0.055501</td>\n",
       "      <td>-0.147462</td>\n",
       "      <td>-0.005013</td>\n",
       "      <td>1.116028</td>\n",
       "      <td>-0.149601</td>\n",
       "      <td>-0.994340</td>\n",
       "      <td>0.279786</td>\n",
       "      <td>-0.810753</td>\n",
       "    </tr>\n",
       "    <tr>\n",
       "      <th>Mes2</th>\n",
       "      <td>0.047175</td>\n",
       "      <td>2.093223</td>\n",
       "      <td>NaN</td>\n",
       "      <td>1.427172</td>\n",
       "      <td>3.282191</td>\n",
       "      <td>-0.749413</td>\n",
       "      <td>0.179756</td>\n",
       "      <td>0.316869</td>\n",
       "      <td>-0.732568</td>\n",
       "    </tr>\n",
       "    <tr>\n",
       "      <th>NetA</th>\n",
       "      <td>0.386926</td>\n",
       "      <td>0.207935</td>\n",
       "      <td>1.056356</td>\n",
       "      <td>0.828035</td>\n",
       "      <td>2.316908</td>\n",
       "      <td>0.071734</td>\n",
       "      <td>0.783197</td>\n",
       "      <td>0.646202</td>\n",
       "      <td>1.107895</td>\n",
       "    </tr>\n",
       "    <tr>\n",
       "      <th>ltl</th>\n",
       "      <td>-0.367225</td>\n",
       "      <td>-0.237899</td>\n",
       "      <td>NaN</td>\n",
       "      <td>-0.599136</td>\n",
       "      <td>0.446801</td>\n",
       "      <td>-0.531014</td>\n",
       "      <td>0.015779</td>\n",
       "      <td>-0.970267</td>\n",
       "      <td>0.193621</td>\n",
       "    </tr>\n",
       "    <tr>\n",
       "      <th>sna</th>\n",
       "      <td>1.566459</td>\n",
       "      <td>0.902125</td>\n",
       "      <td>1.636741</td>\n",
       "      <td>1.147732</td>\n",
       "      <td>1.818719</td>\n",
       "      <td>0.742307</td>\n",
       "      <td>1.952632</td>\n",
       "      <td>2.392506</td>\n",
       "      <td>1.268061</td>\n",
       "    </tr>\n",
       "  </tbody>\n",
       "</table>\n",
       "</div>"
      ],
      "text/plain": [
       "         ez-mesoderm_logfoldchanges  \\\n",
       "GEFmeso                   -1.302467   \n",
       "Mes2                       0.047175   \n",
       "NetA                       0.386926   \n",
       "ltl                       -0.367225   \n",
       "sna                        1.566459   \n",
       "\n",
       "         ez-anterioposterior_ectoderm_logfoldchanges  \\\n",
       "GEFmeso                                    -0.055501   \n",
       "Mes2                                        2.093223   \n",
       "NetA                                        0.207935   \n",
       "ltl                                        -0.237899   \n",
       "sna                                         0.902125   \n",
       "\n",
       "         ez-dorsal_ectoderm_logfoldchanges  ez-neuroectoderm_logfoldchanges  \\\n",
       "GEFmeso                          -0.147462                        -0.005013   \n",
       "Mes2                                   NaN                         1.427172   \n",
       "NetA                              1.056356                         0.828035   \n",
       "ltl                                    NaN                        -0.599136   \n",
       "sna                               1.636741                         1.147732   \n",
       "\n",
       "         ez-ventral_ectoderm_logfoldchanges  \\\n",
       "GEFmeso                            1.116028   \n",
       "Mes2                               3.282191   \n",
       "NetA                               2.316908   \n",
       "ltl                                0.446801   \n",
       "sna                                1.818719   \n",
       "\n",
       "         ez-anterior_endoderm_logfoldchanges  \\\n",
       "GEFmeso                            -0.149601   \n",
       "Mes2                               -0.749413   \n",
       "NetA                                0.071734   \n",
       "ltl                                -0.531014   \n",
       "sna                                 0.742307   \n",
       "\n",
       "         ez-posterior_endoderm_logfoldchanges  ez-yolk_logfoldchanges  \\\n",
       "GEFmeso                             -0.994340                0.279786   \n",
       "Mes2                                 0.179756                0.316869   \n",
       "NetA                                 0.783197                0.646202   \n",
       "ltl                                  0.015779               -0.970267   \n",
       "sna                                  1.952632                2.392506   \n",
       "\n",
       "         ez-undifferentiated_cells_logfoldchanges  \n",
       "GEFmeso                                 -0.810753  \n",
       "Mes2                                    -0.732568  \n",
       "NetA                                     1.107895  \n",
       "ltl                                      0.193621  \n",
       "sna                                      1.268061  "
      ]
     },
     "execution_count": 10,
     "metadata": {},
     "output_type": "execute_result"
    }
   ],
   "source": [
    "resfc.head()"
   ]
  },
  {
   "cell_type": "code",
   "execution_count": null,
   "metadata": {},
   "outputs": [],
   "source": []
  },
  {
   "cell_type": "code",
   "execution_count": null,
   "metadata": {},
   "outputs": [],
   "source": []
  },
  {
   "cell_type": "code",
   "execution_count": 11,
   "metadata": {},
   "outputs": [],
   "source": [
    "markers_germ=pd.read_csv('./data/markergenes.csv', index_col=[0])\n",
    "res_ehn['germlayer']=res_ehn.index.map( markers_germ['germlayer'].to_dict() )\n",
    "res_tss['germlayer']=res_tss.index.map( markers_germ['germlayer'].to_dict() )\n",
    "resfc['germlayer']=resfc.index.map( markers_germ['germlayer'].to_dict() )"
   ]
  },
  {
   "cell_type": "code",
   "execution_count": 12,
   "metadata": {},
   "outputs": [],
   "source": [
    "res_ehn=res_ehn.groupby('germlayer').mean()\n",
    "res_tss=res_tss.groupby('germlayer').mean()\n",
    "resfc=resfc.groupby('germlayer').mean()"
   ]
  },
  {
   "cell_type": "code",
   "execution_count": 13,
   "metadata": {},
   "outputs": [
    {
     "data": {
      "text/plain": [
       "array([ True,  True,  True,  True,  True,  True,  True,  True])"
      ]
     },
     "execution_count": 13,
     "metadata": {},
     "output_type": "execute_result"
    }
   ],
   "source": [
    "res_ehn.index == res_tss.index"
   ]
  },
  {
   "cell_type": "code",
   "execution_count": 14,
   "metadata": {},
   "outputs": [
    {
     "data": {
      "text/plain": [
       "array([ True,  True,  True,  True,  True,  True,  True,  True])"
      ]
     },
     "execution_count": 14,
     "metadata": {},
     "output_type": "execute_result"
    }
   ],
   "source": [
    "resfc.index == res_tss.index"
   ]
  },
  {
   "cell_type": "code",
   "execution_count": 15,
   "metadata": {},
   "outputs": [
    {
     "data": {
      "text/plain": [
       "array([ True,  True,  True,  True,  True,  True,  True,  True,  True])"
      ]
     },
     "execution_count": 15,
     "metadata": {},
     "output_type": "execute_result"
    }
   ],
   "source": [
    "resfc.columns == res_tss.columns"
   ]
  },
  {
   "cell_type": "code",
   "execution_count": 16,
   "metadata": {},
   "outputs": [
    {
     "data": {
      "text/plain": [
       "array([ True,  True,  True,  True,  True,  True,  True,  True,  True])"
      ]
     },
     "execution_count": 16,
     "metadata": {},
     "output_type": "execute_result"
    }
   ],
   "source": [
    "resfc.columns == res_ehn.columns"
   ]
  },
  {
   "cell_type": "code",
   "execution_count": 17,
   "metadata": {},
   "outputs": [],
   "source": [
    "import matplotlib.patches as mpatches "
   ]
  },
  {
   "cell_type": "code",
   "execution_count": 18,
   "metadata": {},
   "outputs": [],
   "source": [
    "xlim_min=-2\n",
    "xlim_max=4"
   ]
  },
  {
   "cell_type": "code",
   "execution_count": 19,
   "metadata": {},
   "outputs": [
    {
     "data": {
      "image/png": "[encoded data removed]",
      "text/plain": [
       "<Figure size 500x500 with 1 Axes>"
      ]
     },
     "metadata": {},
     "output_type": "display_data"
    }
   ],
   "source": [
    "fig,axs=plt.subplots(1,1,figsize=(5,5))\n",
    "\n",
    "# tss\n",
    "x=pd.melt(resfc)['value'].values\n",
    "y=pd.melt(res_tss)['value'].values\n",
    "nas = np.logical_or(np.isnan(x), np.isnan(y))\n",
    "rT,pT = spearmanr(x[~nas], y[~nas])\n",
    "\n",
    "\n",
    "# x[x>=2] = 2\n",
    "# x[x<-2] = -2\n",
    "x[x>=xlim_max] = xlim_max\n",
    "x[x<xlim_min] = xlim_min\n",
    "\n",
    "\n",
    "\n",
    "sns.regplot(x=x[~nas], y=y[~nas] ,  x_bins=np.arange(np.min(x[~nas]), np.max(x[~nas])+1, 1), \n",
    "            color='#209285' )\n",
    "plt.text(s='TSS\\n r:{0:f}\\n p:{1:e}'.format(rT,pT), x=0.02, y=0.8, transform=axs.transAxes)\n",
    "\n",
    "# enhancer\n",
    "x=pd.melt(resfc)['value'].values\n",
    "y=pd.melt(res_ehn)['value'].values\n",
    "nas = np.logical_or(np.isnan(x), np.isnan(y))\n",
    "rE,pE = spearmanr(x[~nas], y[~nas])\n",
    "\n",
    "# x[x>=2] = 2\n",
    "# x[x<-2] = -2\n",
    "x[x>=xlim_max] = xlim_max\n",
    "x[x<xlim_min] = xlim_min\n",
    "\n",
    "\n",
    "sns.regplot(x=x[~nas], y=y[~nas] ,  x_bins=np.arange(np.min(x[~nas]), np.max(x[~nas])+1, 1), \n",
    "            color='#72A551' )\n",
    "\n",
    "\n",
    "plt.text(s='Enhancer\\n r:{0:f}\\n p:{1:e}'.format(rE,pE), x=0.02, y=0.65, transform=axs.transAxes)\n",
    "\n",
    "plt.title('GEX and ATAC Correlation')\n",
    "plt.ylabel('ATAC logFC %s vs WT'%(mutant))\n",
    "plt.xlabel('GEX logFC %s vs WT'%(mutant))\n",
    "\n",
    "\n",
    "# legend\n",
    "pop_a = mpatches.Patch(color='#209285', label='TSS') \n",
    "pop_b = mpatches.Patch(color='#72A551' , label='Enhancer') \n",
    "plt.legend(handles=[pop_a,pop_b]) \n",
    "\n",
    "plt.axhline(y=0,color='purple', linestyle='--', lw=0.5)\n",
    "plt.axvline(x=0,color='purple', linestyle='--', lw=0.5)\n",
    "#plt.get_legend().remove()\n",
    "# plt.ylim((0.5, 6))\n",
    "# plt.xlim((4, 9))\n",
    "\n",
    "\n",
    "#plt.savefig('/hpcnfs/scratch/DIMA/piva/mpi_freiburg/figures/aprile24/heatmap_with_thresholds/correlations/%s_vs_wt_ATAC_RNA_markers_threshold%spct(2).pdf'%(mutant, threshold))\n",
    "\n"
   ]
  },
  {
   "cell_type": "code",
   "execution_count": null,
   "metadata": {},
   "outputs": [],
   "source": [
    "\n"
   ]
  },
  {
   "cell_type": "code",
   "execution_count": null,
   "metadata": {},
   "outputs": [],
   "source": []
  },
  {
   "cell_type": "code",
   "execution_count": null,
   "metadata": {},
   "outputs": [],
   "source": []
  }
 ],
 "metadata": {
  "kernelspec": {
   "display_name": "myenv",
   "language": "python",
   "name": "myenv"
  },
  "language_info": {
   "codemirror_mode": {
    "name": "ipython",
    "version": 3
   },
   "file_extension": ".py",
   "mimetype": "text/x-python",
   "name": "python",
   "nbconvert_exporter": "python",
   "pygments_lexer": "ipython3",
   "version": "3.9.20"
  }
 },
 "nbformat": 4,
 "nbformat_minor": 4
}
